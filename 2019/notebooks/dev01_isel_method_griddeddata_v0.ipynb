{
 "cells": [
  {
   "cell_type": "markdown",
   "metadata": {},
   "source": [
    "### Indexing and selection of subsets in GriddedData by dimension names using the `isel` method\n",
    "\n",
    "The `pyaerocom.GriddedData` object is based on the `Cube` object of the `iris` library, which does not provide as intuitive indexing and subsetting methods as xarray does. \n",
    "\n",
    "See here for anintroduction into the related iris API (based on `iris.Constraint` class):\n",
    "\n",
    "https://scitools.org.uk/iris/docs/v2.0/userguide/subsetting_a_cube.html#subsetting-a-cube\n",
    "\n",
    "And here for the xarray equivalent:\n",
    "\n",
    "http://xarray.pydata.org/en/stable/indexing.html#indexing-and-selecting-data\n",
    "\n",
    "The latter (xarray) allows for things like::\n",
    "\n",
    "```\n",
    "subset = data.isel(longitude=12, latitude=slice(10, 20))\n",
    "```\n",
    "\n",
    "which is very convenient to extract certain locations. In pyaerocom, this needs to be done all the time, since very often, model data is supposed to be colocated with observations from certain lat / lon coorinate locations. Doing such an extraction with `iris.Constraints` can be painful, therefore, a wrapper method `isel` was implemented, which can be used like the equivalent method in xarray and which is introduced in the following."
   ]
  },
  {
   "cell_type": "code",
   "execution_count": 1,
   "metadata": {},
   "outputs": [
    {
     "name": "stderr",
     "output_type": "stream",
     "text": [
      "Initating pyaerocom configuration\n",
      "Checking server configuration ...\n",
      "Init data paths for lustre\n",
      "Expired time: 0.010 s\n"
     ]
    }
   ],
   "source": [
    "import pyaerocom as pya"
   ]
  },
  {
   "cell_type": "code",
   "execution_count": 2,
   "metadata": {},
   "outputs": [
    {
     "name": "stdout",
     "output_type": "stream",
     "text": [
      "\n",
      "Pyaerocom ReadGridded\n",
      "---------------------\n",
      "Model ID: CAM5.3-Oslo_AP3-CTRL2016-PD\n",
      "Data directory: /lustre/storeA/project/aerocom/aerocom-users-database/AEROCOM-PHASE-III/CAM5.3-Oslo_AP3-CTRL2016-PD/renamed\n",
      "Available variables: ['abs440aer', 'abs440aercs', 'abs500aer', 'abs5503Daer', 'abs550aer', 'abs550bc', 'abs550dryaer', 'abs550dust', 'abs550oa', 'abs550so4', 'abs550ss', 'abs670aer', 'abs870aer', 'airmass', 'area', 'asy3Daer', 'bc5503Daer', 'ccn0c02p', 'ccn0c05p', 'ccn0c10p', 'ccn0c20p', 'ccn0c50p', 'ccn1c00p', 'cheaqpso4', 'chegpso4', 'chepso2', 'cl3D', 'cldnci', 'cldncl', 'clt', 'cltl', 'drybc', 'drydms', 'drydust', 'dryoa', 'dryso2', 'dryso4', 'dryss', 'ec5503Daer', 'ec550dryaer', 'emibc', 'emidms', 'emidust', 'emioa', 'emiso2', 'emiso4', 'emiss', 'hus', 'landf', 'loadbc', 'loaddms', 'loaddust', 'loadoa', 'loadso2', 'loadso4', 'loadss', 'mmraerh2o', 'mmrbc', 'mmrdu', 'mmroa', 'mmrso4', 'mmrss', 'od440aer', 'od440csaer', 'od550aer', 'od550aerh2o', 'od550bc', 'od550csaer', 'od550dust', 'od550gt1aer', 'od550lt1aer', 'od550lt1dust', 'od550oa', 'od550so4', 'od550ss', 'od670aer', 'od870aer', 'od870csaer', 'orog', 'precip', 'pressure', 'ps', 'rlds', 'rlus', 'rlut', 'rlutcs', 'rsds', 'rsdscs', 'rsdt', 'rsus', 'rsut', 'rsutcs', 'sconcbc', 'sconcdms', 'sconcdust', 'sconcoa', 'sconcso2', 'sconcso4', 'sconcss', 'temp', 'vmrdms', 'vmrso2', 'wetbc', 'wetdms', 'wetdust', 'wetoa', 'wetso2', 'wetso4', 'wetss']\n",
      "Available years: [2010]\n",
      "Available time resolutions ['monthly']\n"
     ]
    }
   ],
   "source": [
    "r = pya.io.ReadGridded('CAM5.3-Oslo_AP3-CTRL2016-PD')\n",
    "print(r)"
   ]
  },
  {
   "cell_type": "code",
   "execution_count": 3,
   "metadata": {},
   "outputs": [
    {
     "name": "stderr",
     "output_type": "stream",
     "text": [
      "/home/jonasg/anaconda3/lib/python3.6/site-packages/iris/fileformats/cf.py:557: UserWarning: Missing CF-netCDF formula term variable 'hyam', referenced by netCDF variable 'lev'\n",
      "  warnings.warn(message % (variable_name, nc_var_name))\n",
      "/home/jonasg/anaconda3/lib/python3.6/site-packages/iris/fileformats/cf.py:557: UserWarning: Missing CF-netCDF formula term variable 'hybm', referenced by netCDF variable 'lev'\n",
      "  warnings.warn(message % (variable_name, nc_var_name))\n",
      "/home/jonasg/anaconda3/lib/python3.6/site-packages/iris/fileformats/cf.py:557: UserWarning: Missing CF-netCDF formula term variable 'P0', referenced by netCDF variable 'lev'\n",
      "  warnings.warn(message % (variable_name, nc_var_name))\n",
      "/home/jonasg/anaconda3/lib/python3.6/site-packages/iris/fileformats/cf.py:557: UserWarning: Missing CF-netCDF formula term variable 'PS', referenced by netCDF variable 'lev'\n",
      "  warnings.warn(message % (variable_name, nc_var_name))\n",
      "/home/jonasg/anaconda3/lib/python3.6/site-packages/iris/fileformats/_pyke_rules/compiled_krb/fc_rules_cf_fc.py:2029: UserWarning: Gracefully filling 'lat' dimension coordinate masked points\n",
      "  warnings.warn(msg.format(str(cf_coord_var.cf_name)))\n",
      "/home/jonasg/anaconda3/lib/python3.6/site-packages/iris/fileformats/_pyke_rules/compiled_krb/fc_rules_cf_fc.py:2029: UserWarning: Gracefully filling 'lon' dimension coordinate masked points\n",
      "  warnings.warn(msg.format(str(cf_coord_var.cf_name)))\n",
      "/home/jonasg/anaconda3/lib/python3.6/site-packages/iris/fileformats/_pyke_rules/compiled_krb/fc_rules_cf_fc.py:2029: UserWarning: Gracefully filling 'time' dimension coordinate masked points\n",
      "  warnings.warn(msg.format(str(cf_coord_var.cf_name)))\n",
      "/home/jonasg/anaconda3/lib/python3.6/site-packages/iris/fileformats/_pyke_rules/compiled_krb/fc_rules_cf_fc.py:2036: UserWarning: Gracefully filling 'time' dimension coordinate masked bounds\n",
      "  warnings.warn(msg.format(str(cf_coord_var.cf_name)))\n",
      "/home/jonasg/anaconda3/lib/python3.6/site-packages/iris/fileformats/_pyke_rules/compiled_krb/fc_rules_cf_fc.py:1932: UserWarning: Ignoring netCDF variable 'lev' invalid units 'level'\n",
      "  warnings.warn(msg)\n",
      "/home/jonasg/anaconda3/lib/python3.6/site-packages/iris/fileformats/_pyke_rules/compiled_krb/fc_rules_cf_fc.py:2029: UserWarning: Gracefully filling 'lev' dimension coordinate masked points\n",
      "  warnings.warn(msg.format(str(cf_coord_var.cf_name)))\n",
      "/home/jonasg/anaconda3/lib/python3.6/site-packages/iris/fileformats/_pyke_rules/compiled_krb/fc_rules_cf_fc.py:2029: UserWarning: Gracefully filling 'lat' dimension coordinate masked points\n",
      "  warnings.warn(msg.format(str(cf_coord_var.cf_name)))\n"
     ]
    },
    {
     "data": {
      "text/plain": [
       "pyaerocom.GriddedData\n",
       "Grid data: <iris 'Cube' of aerosol extinction coefficient / (1/Mm) (time: 12; atmosphere_hybrid_sigma_pressure_coordinate: 30; latitude: 192; longitude: 288)>"
      ]
     },
     "execution_count": 3,
     "metadata": {},
     "output_type": "execute_result"
    }
   ],
   "source": [
    "data = r.read_var('ec5503Daer')\n",
    "data"
   ]
  },
  {
   "cell_type": "markdown",
   "metadata": {},
   "source": [
    "#### Display coordinate arrays"
   ]
  },
  {
   "cell_type": "code",
   "execution_count": 4,
   "metadata": {},
   "outputs": [
    {
     "data": {
      "text/plain": [
       "DimCoord(array([-180.  , -178.75, -177.5 , -176.25, -175.  , -173.75, -172.5 ,\n",
       "       -171.25, -170.  , -168.75, -167.5 , -166.25, -165.  , -163.75,\n",
       "       -162.5 , -161.25, -160.  , -158.75, -157.5 , -156.25, -155.  ,\n",
       "       -153.75, -152.5 , -151.25, -150.  , -148.75, -147.5 , -146.25,\n",
       "       -145.  , -143.75, -142.5 , -141.25, -140.  , -138.75, -137.5 ,\n",
       "       -136.25, -135.  , -133.75, -132.5 , -131.25, -130.  , -128.75,\n",
       "       -127.5 , -126.25, -125.  , -123.75, -122.5 , -121.25, -120.  ,\n",
       "       -118.75, -117.5 , -116.25, -115.  , -113.75, -112.5 , -111.25,\n",
       "       -110.  , -108.75, -107.5 , -106.25, -105.  , -103.75, -102.5 ,\n",
       "       -101.25, -100.  ,  -98.75,  -97.5 ,  -96.25,  -95.  ,  -93.75,\n",
       "        -92.5 ,  -91.25,  -90.  ,  -88.75,  -87.5 ,  -86.25,  -85.  ,\n",
       "        -83.75,  -82.5 ,  -81.25,  -80.  ,  -78.75,  -77.5 ,  -76.25,\n",
       "        -75.  ,  -73.75,  -72.5 ,  -71.25,  -70.  ,  -68.75,  -67.5 ,\n",
       "        -66.25,  -65.  ,  -63.75,  -62.5 ,  -61.25,  -60.  ,  -58.75,\n",
       "        -57.5 ,  -56.25,  -55.  ,  -53.75,  -52.5 ,  -51.25,  -50.  ,\n",
       "        -48.75,  -47.5 ,  -46.25,  -45.  ,  -43.75,  -42.5 ,  -41.25,\n",
       "        -40.  ,  -38.75,  -37.5 ,  -36.25,  -35.  ,  -33.75,  -32.5 ,\n",
       "        -31.25,  -30.  ,  -28.75,  -27.5 ,  -26.25,  -25.  ,  -23.75,\n",
       "        -22.5 ,  -21.25,  -20.  ,  -18.75,  -17.5 ,  -16.25,  -15.  ,\n",
       "        -13.75,  -12.5 ,  -11.25,  -10.  ,   -8.75,   -7.5 ,   -6.25,\n",
       "         -5.  ,   -3.75,   -2.5 ,   -1.25,    0.  ,    1.25,    2.5 ,\n",
       "          3.75,    5.  ,    6.25,    7.5 ,    8.75,   10.  ,   11.25,\n",
       "         12.5 ,   13.75,   15.  ,   16.25,   17.5 ,   18.75,   20.  ,\n",
       "         21.25,   22.5 ,   23.75,   25.  ,   26.25,   27.5 ,   28.75,\n",
       "         30.  ,   31.25,   32.5 ,   33.75,   35.  ,   36.25,   37.5 ,\n",
       "         38.75,   40.  ,   41.25,   42.5 ,   43.75,   45.  ,   46.25,\n",
       "         47.5 ,   48.75,   50.  ,   51.25,   52.5 ,   53.75,   55.  ,\n",
       "         56.25,   57.5 ,   58.75,   60.  ,   61.25,   62.5 ,   63.75,\n",
       "         65.  ,   66.25,   67.5 ,   68.75,   70.  ,   71.25,   72.5 ,\n",
       "         73.75,   75.  ,   76.25,   77.5 ,   78.75,   80.  ,   81.25,\n",
       "         82.5 ,   83.75,   85.  ,   86.25,   87.5 ,   88.75,   90.  ,\n",
       "         91.25,   92.5 ,   93.75,   95.  ,   96.25,   97.5 ,   98.75,\n",
       "        100.  ,  101.25,  102.5 ,  103.75,  105.  ,  106.25,  107.5 ,\n",
       "        108.75,  110.  ,  111.25,  112.5 ,  113.75,  115.  ,  116.25,\n",
       "        117.5 ,  118.75,  120.  ,  121.25,  122.5 ,  123.75,  125.  ,\n",
       "        126.25,  127.5 ,  128.75,  130.  ,  131.25,  132.5 ,  133.75,\n",
       "        135.  ,  136.25,  137.5 ,  138.75,  140.  ,  141.25,  142.5 ,\n",
       "        143.75,  145.  ,  146.25,  147.5 ,  148.75,  150.  ,  151.25,\n",
       "        152.5 ,  153.75,  155.  ,  156.25,  157.5 ,  158.75,  160.  ,\n",
       "        161.25,  162.5 ,  163.75,  165.  ,  166.25,  167.5 ,  168.75,\n",
       "        170.  ,  171.25,  172.5 ,  173.75,  175.  ,  176.25,  177.5 ,\n",
       "        178.75]), standard_name='longitude', units=Unit('degrees'), long_name='longitude', var_name='lon', circular=True)"
      ]
     },
     "execution_count": 4,
     "metadata": {},
     "output_type": "execute_result"
    }
   ],
   "source": [
    "data.longitude"
   ]
  },
  {
   "cell_type": "code",
   "execution_count": 5,
   "metadata": {},
   "outputs": [
    {
     "data": {
      "text/plain": [
       "DimCoord(array([-90.        , -89.05759162, -88.11518325, -87.17277487,\n",
       "       -86.23036649, -85.28795812, -84.34554974, -83.40314136,\n",
       "       -82.46073298, -81.51832461, -80.57591623, -79.63350785,\n",
       "       -78.69109948, -77.7486911 , -76.80628272, -75.86387435,\n",
       "       -74.92146597, -73.97905759, -73.03664921, -72.09424084,\n",
       "       -71.15183246, -70.20942408, -69.26701571, -68.32460733,\n",
       "       -67.38219895, -66.43979058, -65.4973822 , -64.55497382,\n",
       "       -63.61256545, -62.67015707, -61.72774869, -60.78534031,\n",
       "       -59.84293194, -58.90052356, -57.95811518, -57.01570681,\n",
       "       -56.07329843, -55.13089005, -54.18848168, -53.2460733 ,\n",
       "       -52.30366492, -51.36125654, -50.41884817, -49.47643979,\n",
       "       -48.53403141, -47.59162304, -46.64921466, -45.70680628,\n",
       "       -44.76439791, -43.82198953, -42.87958115, -41.93717277,\n",
       "       -40.9947644 , -40.05235602, -39.10994764, -38.16753927,\n",
       "       -37.22513089, -36.28272251, -35.34031414, -34.39790576,\n",
       "       -33.45549738, -32.51308901, -31.57068063, -30.62827225,\n",
       "       -29.68586387, -28.7434555 , -27.80104712, -26.85863874,\n",
       "       -25.91623037, -24.97382199, -24.03141361, -23.08900524,\n",
       "       -22.14659686, -21.20418848, -20.2617801 , -19.31937173,\n",
       "       -18.37696335, -17.43455497, -16.4921466 , -15.54973822,\n",
       "       -14.60732984, -13.66492147, -12.72251309, -11.78010471,\n",
       "       -10.83769634,  -9.89528796,  -8.95287958,  -8.0104712 ,\n",
       "        -7.06806283,  -6.12565445,  -5.18324607,  -4.2408377 ,\n",
       "        -3.29842932,  -2.35602094,  -1.41361257,  -0.47120419,\n",
       "         0.47120419,   1.41361257,   2.35602094,   3.29842932,\n",
       "         4.2408377 ,   5.18324607,   6.12565445,   7.06806283,\n",
       "         8.0104712 ,   8.95287958,   9.89528796,  10.83769634,\n",
       "        11.78010471,  12.72251309,  13.66492147,  14.60732984,\n",
       "        15.54973822,  16.4921466 ,  17.43455497,  18.37696335,\n",
       "        19.31937173,  20.2617801 ,  21.20418848,  22.14659686,\n",
       "        23.08900524,  24.03141361,  24.97382199,  25.91623037,\n",
       "        26.85863874,  27.80104712,  28.7434555 ,  29.68586387,\n",
       "        30.62827225,  31.57068063,  32.51308901,  33.45549738,\n",
       "        34.39790576,  35.34031414,  36.28272251,  37.22513089,\n",
       "        38.16753927,  39.10994764,  40.05235602,  40.9947644 ,\n",
       "        41.93717277,  42.87958115,  43.82198953,  44.76439791,\n",
       "        45.70680628,  46.64921466,  47.59162304,  48.53403141,\n",
       "        49.47643979,  50.41884817,  51.36125654,  52.30366492,\n",
       "        53.2460733 ,  54.18848168,  55.13089005,  56.07329843,\n",
       "        57.01570681,  57.95811518,  58.90052356,  59.84293194,\n",
       "        60.78534031,  61.72774869,  62.67015707,  63.61256545,\n",
       "        64.55497382,  65.4973822 ,  66.43979058,  67.38219895,\n",
       "        68.32460733,  69.26701571,  70.20942408,  71.15183246,\n",
       "        72.09424084,  73.03664921,  73.97905759,  74.92146597,\n",
       "        75.86387435,  76.80628272,  77.7486911 ,  78.69109948,\n",
       "        79.63350785,  80.57591623,  81.51832461,  82.46073298,\n",
       "        83.40314136,  84.34554974,  85.28795812,  86.23036649,\n",
       "        87.17277487,  88.11518325,  89.05759162,  90.        ]), standard_name='latitude', units=Unit('degrees'), long_name='latitude', var_name='lat')"
      ]
     },
     "execution_count": 5,
     "metadata": {},
     "output_type": "execute_result"
    }
   ],
   "source": [
    "data.latitude"
   ]
  },
  {
   "cell_type": "code",
   "execution_count": 6,
   "metadata": {},
   "outputs": [
    {
     "data": {
      "text/plain": [
       "DimCoord(array([  0.,  31.,  59.,  90., 120., 151., 181., 212., 243., 273., 304.,\n",
       "       334.]), standard_name='time', units=Unit('days since 2010-01-01 00:00:00', calendar='gregorian'))"
      ]
     },
     "execution_count": 6,
     "metadata": {},
     "output_type": "execute_result"
    }
   ],
   "source": [
    "time = data['time']\n",
    "time"
   ]
  },
  {
   "cell_type": "markdown",
   "metadata": {},
   "source": [
    "#### Define some example coordinates used to extract a profile"
   ]
  },
  {
   "cell_type": "code",
   "execution_count": 7,
   "metadata": {},
   "outputs": [],
   "source": [
    "lon = 110.1111\n",
    "lat = 84.12345\n",
    "t = data.start + np.timedelta64(180, 'D')"
   ]
  },
  {
   "cell_type": "markdown",
   "metadata": {},
   "source": [
    "#### Find coordinate indices that are closest to the above coordinate"
   ]
  },
  {
   "cell_type": "code",
   "execution_count": 8,
   "metadata": {},
   "outputs": [
    {
     "data": {
      "text/plain": [
       "{'longitude': 232, 'latitude': 185, 'time': 6}"
      ]
     },
     "execution_count": 8,
     "metadata": {},
     "output_type": "execute_result"
    }
   ],
   "source": [
    "idx = data.find_closest_index(longitude=lon, latitude=lat, time=t)\n",
    "idx"
   ]
  },
  {
   "cell_type": "markdown",
   "metadata": {},
   "source": [
    "##### Make sure the method `find_closest_index` worked properly"
   ]
  },
  {
   "cell_type": "code",
   "execution_count": 9,
   "metadata": {},
   "outputs": [
    {
     "name": "stdout",
     "output_type": "stream",
     "text": [
      "Closest coordinates\n",
      "Lat: 110.0 (in: 110.1111, diff: -0.11)\n",
      "Lon: 84.34554973821989 (in: 84.12345, diff: 0.22)\n",
      "Time: 2010-07-01T00:00:00.000000 (in 2010-06-30T00:00:00.000000, diff: 86400000000 microseconds)\n",
      "\n"
     ]
    }
   ],
   "source": [
    "print('Closest coordinates\\n'\n",
    "      'Lat: {} (in: {}, diff: {:.2f})\\n'\n",
    "      'Lon: {} (in: {}, diff: {:.2f})\\n'\n",
    "      'Time: {} (in {}, diff: {})\\n'\n",
    "      .format(data.longitude.points[idx['longitude']], lon, data.longitude.points[idx['longitude']] - lon,\n",
    "              data.latitude.points[idx['latitude']], lat, data.latitude.points[idx['latitude']] - lat,\n",
    "              data.time_stamps()[idx['time']], t, str(data.time_stamps()[idx['time']] - t)))"
   ]
  },
  {
   "cell_type": "markdown",
   "metadata": {},
   "source": [
    "### Use the `isel` method to subset the data directly"
   ]
  },
  {
   "cell_type": "code",
   "execution_count": 10,
   "metadata": {},
   "outputs": [
    {
     "name": "stdout",
     "output_type": "stream",
     "text": [
      "DataExtractionError('No such value 110.1111 in dim longitudeUse option use_neirest to disregard and extract neirest neighbour',)\n",
      "pyaerocom.GriddedData: CAM5.3-Oslo_AP3-CTRL2016-PD\n",
      "Grid data: aerosol extinction coefficient / (1/Mm) (atmosphere_hybrid_sigma_pressure_coordinate: 30)\n",
      "     Dimension coordinates:\n",
      "          atmosphere_hybrid_sigma_pressure_coordinate                               x\n",
      "     Scalar coordinates:\n",
      "          latitude: 84.34554973821989 degrees\n",
      "          longitude: 110.0 degrees\n",
      "          time: 2010-07-01 00:00:00\n",
      "     Attributes:\n",
      "          Conventions: CF-1.0\n",
      "          NCO: 4.3.7\n",
      "          Version: $Name$\n",
      "          case: 53OSLO_PD_UNTUNED\n",
      "          history: Mon Feb 20 14:49:21 2017: ncatted -O -a units,ec5503Daer,o,c,m-1 /scratch/kirkevag/aerocom/aerocom3_CAM5.3-Oslo_AP3-CTRL2016-PD_ec5503Daer_ModelLevel_2010_monthly.nc\n",
      "Mon...\n",
      "          host: hexagon-1\n",
      "          initial_file: /work/shared/noresm/inputdata/atm/cam/inic/fv/cami-mam3_0000-01-01_0.9...\n",
      "          logname: ihkarset\n",
      "          mdims: 1\n",
      "          nco_openmp_thread_number: 1\n",
      "          revision_Id: $Id$\n",
      "          source: CAM\n",
      "          title: UNSET\n",
      "          topography_file: /work/shared/noresm/inputdata/noresm-only/inputForNudging/ERA_f09f09_3...\n",
      "     Cell methods:\n",
      "          mean: time\n"
     ]
    }
   ],
   "source": [
    "try:\n",
    "    subset = data.isel(longitude=lon, latitude=lat, time=t, use_neirest=False)\n",
    "except pya.exceptions.DataExtractionError as e:\n",
    "    print(repr(e))\n",
    "    subset = data.isel(longitude=lon, latitude=lat, time=t, use_neirest=True)\n",
    "print(subset)"
   ]
  },
  {
   "cell_type": "markdown",
   "metadata": {},
   "source": [
    "#### Test isel combination of range specification and nearest values"
   ]
  },
  {
   "cell_type": "code",
   "execution_count": 11,
   "metadata": {},
   "outputs": [
    {
     "name": "stdout",
     "output_type": "stream",
     "text": [
      "pyaerocom.GriddedData: CAM5.3-Oslo_AP3-CTRL2016-PD\n",
      "Grid data: aerosol extinction coefficient / (1/Mm) (atmosphere_hybrid_sigma_pressure_coordinate: 30; longitude: 48)\n",
      "     Dimension coordinates:\n",
      "          atmosphere_hybrid_sigma_pressure_coordinate                               x              -\n",
      "          longitude                                                                 -              x\n",
      "     Scalar coordinates:\n",
      "          latitude: 84.34554973821989 degrees\n",
      "          time: 2010-07-01 00:00:00\n",
      "     Attributes:\n",
      "          Conventions: CF-1.0\n",
      "          NCO: 4.3.7\n",
      "          Version: $Name$\n",
      "          case: 53OSLO_PD_UNTUNED\n",
      "          history: Mon Feb 20 14:49:21 2017: ncatted -O -a units,ec5503Daer,o,c,m-1 /scratch/kirkevag/aerocom/aerocom3_CAM5.3-Oslo_AP3-CTRL2016-PD_ec5503Daer_ModelLevel_2010_monthly.nc\n",
      "Mon...\n",
      "          host: hexagon-1\n",
      "          initial_file: /work/shared/noresm/inputdata/atm/cam/inic/fv/cami-mam3_0000-01-01_0.9...\n",
      "          logname: ihkarset\n",
      "          mdims: 1\n",
      "          nco_openmp_thread_number: 1\n",
      "          revision_Id: $Id$\n",
      "          source: CAM\n",
      "          title: UNSET\n",
      "          topography_file: /work/shared/noresm/inputdata/noresm-only/inputForNudging/ERA_f09f09_3...\n",
      "     Cell methods:\n",
      "          mean: time\n"
     ]
    }
   ],
   "source": [
    "sub2 = data.isel(time=t, longitude=(lon-30, lon+30), latitude=lat)\n",
    "print(sub2)"
   ]
  },
  {
   "cell_type": "code",
   "execution_count": 12,
   "metadata": {},
   "outputs": [
    {
     "name": "stdout",
     "output_type": "stream",
     "text": [
      "pyaerocom.GriddedData: CAM5.3-Oslo_AP3-CTRL2016-PD\n",
      "Grid data: aerosol extinction coefficient / (1/Mm) (atmosphere_hybrid_sigma_pressure_coordinate: 30)\n",
      "     Dimension coordinates:\n",
      "          atmosphere_hybrid_sigma_pressure_coordinate                               x\n",
      "     Scalar coordinates:\n",
      "          latitude: 84.34554973821989 degrees\n",
      "          longitude: 110.0 degrees\n",
      "          time: 2010-07-01 00:00:00\n",
      "     Attributes:\n",
      "          Conventions: CF-1.0\n",
      "          NCO: 4.3.7\n",
      "          Version: $Name$\n",
      "          case: 53OSLO_PD_UNTUNED\n",
      "          history: Mon Feb 20 14:49:21 2017: ncatted -O -a units,ec5503Daer,o,c,m-1 /scratch/kirkevag/aerocom/aerocom3_CAM5.3-Oslo_AP3-CTRL2016-PD_ec5503Daer_ModelLevel_2010_monthly.nc\n",
      "Mon...\n",
      "          host: hexagon-1\n",
      "          initial_file: /work/shared/noresm/inputdata/atm/cam/inic/fv/cami-mam3_0000-01-01_0.9...\n",
      "          logname: ihkarset\n",
      "          mdims: 1\n",
      "          nco_openmp_thread_number: 1\n",
      "          revision_Id: $Id$\n",
      "          source: CAM\n",
      "          title: UNSET\n",
      "          topography_file: /work/shared/noresm/inputdata/noresm-only/inputForNudging/ERA_f09f09_3...\n",
      "     Cell methods:\n",
      "          mean: time\n"
     ]
    }
   ],
   "source": [
    "sub3 = sub2.isel(longitude = lon)\n",
    "print(sub3)"
   ]
  },
  {
   "cell_type": "markdown",
   "metadata": {},
   "source": [
    "#### Check if the index extraction worked"
   ]
  },
  {
   "cell_type": "code",
   "execution_count": 13,
   "metadata": {},
   "outputs": [
    {
     "data": {
      "text/plain": [
       "['time',\n",
       " 'atmosphere_hybrid_sigma_pressure_coordinate',\n",
       " 'latitude',\n",
       " 'longitude']"
      ]
     },
     "execution_count": 13,
     "metadata": {},
     "output_type": "execute_result"
    }
   ],
   "source": [
    "data.coords_order"
   ]
  },
  {
   "cell_type": "markdown",
   "metadata": {},
   "source": [
    "Use closest indices extracted above."
   ]
  },
  {
   "cell_type": "code",
   "execution_count": 14,
   "metadata": {},
   "outputs": [],
   "source": [
    "profile0 = subset[:].grid.data\n",
    "profile1 = data[idx['time'], :, idx['latitude'], idx['longitude']].grid.data\n",
    "profile2 = sub3[:].grid.data"
   ]
  },
  {
   "cell_type": "code",
   "execution_count": 15,
   "metadata": {},
   "outputs": [
    {
     "data": {
      "text/plain": [
       "<matplotlib.legend.Legend at 0x7f9e54c49a90>"
      ]
     },
     "execution_count": 15,
     "metadata": {},
     "output_type": "execute_result"
    },
    {
     "data": {
      "image/png": "[encoded data removed]",
      "text/plain": [
       "<Figure size 1296x864 with 1 Axes>"
      ]
     },
     "metadata": {},
     "output_type": "display_data"
    }
   ],
   "source": [
    "levs = np.arange(len(profile0))[::-1]\n",
    "import matplotlib.pyplot as plt\n",
    "\n",
    "plt.figure(figsize=(18,12))\n",
    "plt.plot(profile0, levs, '--x', label='Profile (isel method)')\n",
    "plt.plot(profile1, levs, ' o', mfc='none', label='Profile (fancy indexing)')\n",
    "plt.plot(profile2, levs, ' o', ms=12, mfc='none', label='Profile (isel with range twice)')\n",
    "plt.legend()"
   ]
  },
  {
   "cell_type": "code",
   "execution_count": 16,
   "metadata": {},
   "outputs": [
    {
     "name": "stderr",
     "output_type": "stream",
     "text": [
      "Interpolating data of shape (12, 192, 288). This may take a while.\n",
      "Successfully interpolated cube\n"
     ]
    },
    {
     "data": {
      "text/plain": [
       "[StationData([('dtime', []),\n",
       "              ('var_info', BrowseDict()),\n",
       "              ('errs', BrowseDict()),\n",
       "              ('overlap', BrowseDict()),\n",
       "              ('station_name', None),\n",
       "              ('instrument_name', None),\n",
       "              ('PI', None),\n",
       "              ('filename', None),\n",
       "              ('ts_type', None),\n",
       "              ('latitude', 84.12345),\n",
       "              ('longitude', 110.1111),\n",
       "              ('altitude', nan),\n",
       "              ('data_id', 'CAM5.3-Oslo_AP3-CTRL2016-PD'),\n",
       "              ('dataset_name', None),\n",
       "              ('data_product', None),\n",
       "              ('data_version', None),\n",
       "              ('data_level', None),\n",
       "              ('revision_date', None),\n",
       "              ('ts_type_src', None),\n",
       "              ('ec550aer', 2010-01-01    0.105719\n",
       "               2010-02-01    0.300468\n",
       "               2010-03-01    0.506965\n",
       "               2010-04-01    0.392774\n",
       "               2010-05-01    0.178510\n",
       "               2010-06-01    0.678934\n",
       "               2010-07-01    0.247605\n",
       "               2010-08-01    0.674291\n",
       "               2010-09-01    0.548167\n",
       "               2010-10-01    0.362415\n",
       "               2010-11-01    0.055999\n",
       "               2010-12-01    0.129925\n",
       "               dtype: float32)])]"
      ]
     },
     "execution_count": 16,
     "metadata": {},
     "output_type": "execute_result"
    }
   ],
   "source": [
    "data.to_time_series(latitude=[lat], longitude=[lon], vert_scheme='surface')"
   ]
  }
 ],
 "metadata": {
  "kernelspec": {
   "display_name": "Python 3",
   "language": "python",
   "name": "python3"
  },
  "language_info": {
   "codemirror_mode": {
    "name": "ipython",
    "version": 3
   },
   "file_extension": ".py",
   "mimetype": "text/x-python",
   "name": "python",
   "nbconvert_exporter": "python",
   "pygments_lexer": "ipython3",
   "version": "3.6.8"
  }
 },
 "nbformat": 4,
 "nbformat_minor": 2
}
