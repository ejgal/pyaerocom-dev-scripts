{
 "cells": [
  {
   "cell_type": "markdown",
   "metadata": {},
   "source": [
    "## Testing of vertical coordinate conversion for model data\n",
    "\n",
    "This notebook tries to summarise different cases of how vertical coordinates can be represented in the data and how these cases can be handled with pyaerocom. Here, the ultimate goal is to retrieve, for each grid point of a variable data file $\\mathcal{F}$ (e.g. containing 4D field of extinction coefficients), the altitude above sea level in units of m.\n",
    "\n",
    "Different cases include:\n",
    "\n",
    "1. Additional gridded data file that has same shape as $\\mathcal{F}$ that contains altitude for each grid point (CASE 1).\n",
    "2. Additional gridded data file that has same shape as $\\mathcal{F}$ that contains pressure levels (CASE 2).\n",
    "3. Data file contains all information to convert model level to pressure (cases follow):"
   ]
  },
  {
   "cell_type": "code",
   "execution_count": 1,
   "metadata": {},
   "outputs": [
    {
     "name": "stderr",
     "output_type": "stream",
     "text": [
      "Init data paths for lustre\n"
     ]
    },
    {
     "name": "stdout",
     "output_type": "stream",
     "text": [
      "0.006805419921875 s\n"
     ]
    }
   ],
   "source": [
    "import pyaerocom as pya"
   ]
  },
  {
   "cell_type": "code",
   "execution_count": 19,
   "metadata": {},
   "outputs": [],
   "source": [
    "MOD1 = 'ECMWF_GSTX_T255' # additional file with altitude levels\n",
    "MOD2 = 'CAM5.3-Oslo_AP3-CTRL2016-PD' # additional file with air pressure\n",
    "MOD3 = 'ECHAM6.3-HAM2.3_AP3-CTRL2016-PD'\n",
    "MOD4 = 'HadGEM3_GLOFIR5' #"
   ]
  },
  {
   "cell_type": "markdown",
   "metadata": {},
   "source": [
    "#### Define two example coordinates\n",
    "\n",
    "One at sealevel (**sl**) and one at Hardangervidda mountain plateau (**hv**):"
   ]
  },
  {
   "cell_type": "code",
   "execution_count": 20,
   "metadata": {},
   "outputs": [],
   "source": [
    "lat_sl = 50\n",
    "lon_sl = -20\n",
    "\n",
    "lat_hv = 60.13\n",
    "lon_hv = 7.45"
   ]
  },
  {
   "cell_type": "markdown",
   "metadata": {},
   "source": [
    "#### Define 2 dictionaries that store the profiles of all cases at both locations (sea-level and Hardangervidda coordinates)"
   ]
  },
  {
   "cell_type": "code",
   "execution_count": 21,
   "metadata": {},
   "outputs": [],
   "source": [
    "profiles_sl = {}"
   ]
  },
  {
   "cell_type": "code",
   "execution_count": 22,
   "metadata": {},
   "outputs": [],
   "source": [
    "profiles_hv = {}"
   ]
  },
  {
   "cell_type": "markdown",
   "metadata": {},
   "source": [
    "#### Define helper method to extract a profile at a certain location"
   ]
  },
  {
   "cell_type": "code",
   "execution_count": 40,
   "metadata": {},
   "outputs": [],
   "source": [
    "def extract_profile_arr(data, lat, lon, time_idx):\n",
    "    try:\n",
    "        data.check_dimcoords_tseries()\n",
    "    except:\n",
    "        data.reorder_dimensions_tseries()\n",
    "        data.check_dimcoords_tseries()\n",
    "        \n",
    "    lon_idx = np.argmin(np.abs(data.longitude.points - lon))\n",
    "    lat_idx = np.argmin(np.abs(data.latitude.points - lat))\n",
    "    print(data.coord_names)\n",
    "    print(data.shape)\n",
    "    return data[time_idx, lat_idx, lon_idx, :]"
   ]
  },
  {
   "cell_type": "code",
   "execution_count": 41,
   "metadata": {},
   "outputs": [],
   "source": [
    "from warnings import filterwarnings\n",
    "filterwarnings('ignore')"
   ]
  },
  {
   "cell_type": "markdown",
   "metadata": {},
   "source": [
    "### CASE 1:  Additional altitude field\n",
    "\n",
    "For this dataset, a second NetCDF file that contains the altitude field needs to be loaded. From this file, the altitude can be computed directly."
   ]
  },
  {
   "cell_type": "code",
   "execution_count": 46,
   "metadata": {},
   "outputs": [
    {
     "name": "stdout",
     "output_type": "stream",
     "text": [
      "\n",
      "Pyaerocom ReadGridded\n",
      "---------------------\n",
      "Model ID: ECMWF_GSTX_T255\n",
      "Data directory: /lustre/storeA/project/aerocom/aerocom-users-database/ECMWF/ECMWF_GSTX_T255/renamed\n",
      "Available variables: ['bscatc532aerboa', 'bscatc532aertoa', 'ec532aer', 'ec532aer3D', 'time', 'z', 'zml']\n",
      "Available years: [2010]\n",
      "Available time resolutions ['daily']\n"
     ]
    }
   ],
   "source": [
    "reader = pya.io.ReadGridded(MOD1)\n",
    "print(reader)"
   ]
  },
  {
   "cell_type": "markdown",
   "metadata": {},
   "source": [
    "#### Read extinction and altitude levels"
   ]
  },
  {
   "cell_type": "code",
   "execution_count": null,
   "metadata": {},
   "outputs": [],
   "source": [
    "ec = reader.read_var('ec532aer')\n",
    "alt = reader.read_var('z')"
   ]
  },
  {
   "cell_type": "code",
   "execution_count": null,
   "metadata": {},
   "outputs": [],
   "source": [
    "ec.ts_type"
   ]
  },
  {
   "cell_type": "code",
   "execution_count": 57,
   "metadata": {},
   "outputs": [
    {
     "name": "stdout",
     "output_type": "stream",
     "text": [
      "['time', 'latitude', 'longitude', 'model_level_number']\n",
      "(365, 241, 480, 60)\n",
      "['time', 'latitude', 'longitude', 'model_level_number']\n",
      "(365, 241, 480, 60)\n"
     ]
    }
   ],
   "source": [
    "ec_sl = extract_profile_arr(ec, lat_sl, lon_sl, 30)\n",
    "alt_sl = extract_profile_arr(alt, lat_sl, lon_sl, 30)\n",
    "\n",
    "ec_hv = extract_profile_arr(ec, lat_hv, lon_hv, 30)\n",
    "alt_hv = extract_profile_arr(alt, lat_hv, lon_hv, 30)"
   ]
  },
  {
   "cell_type": "code",
   "execution_count": 55,
   "metadata": {},
   "outputs": [
    {
     "data": {
      "text/plain": [
       "<matplotlib.axes._subplots.AxesSubplot at 0x7f4e5c346cc0>"
      ]
     },
     "execution_count": 55,
     "metadata": {},
     "output_type": "execute_result"
    },
    {
     "data": {
      "image/png": "[encoded data removed]",
      "text/plain": [
       "<Figure size 288x576 with 1 Axes>"
      ]
     },
     "metadata": {},
     "output_type": "display_data"
    }
   ],
   "source": [
    "import matplotlib.pyplot as plt\n",
    "prof = pya.VerticalProfile(ec_sl.grid.data, alt_sl.grid.data, units)\n",
    "prof.plot()"
   ]
  },
  {
   "cell_type": "markdown",
   "metadata": {},
   "source": [
    "### CASE 2:  CAM5.3-Oslo\n",
    "\n",
    "For this dataset, a second NetCDF file that contains the pressure field needs to be loaded. From this file, the altitude can be computed directly."
   ]
  },
  {
   "cell_type": "code",
   "execution_count": 7,
   "metadata": {},
   "outputs": [],
   "source": [
    "import pyaerocom as pya"
   ]
  },
  {
   "cell_type": "code",
   "execution_count": 8,
   "metadata": {},
   "outputs": [
    {
     "name": "stdout",
     "output_type": "stream",
     "text": [
      "\n",
      "Pyaerocom ReadGridded\n",
      "---------------------\n",
      "Model ID: CAM5.3-Oslo_AP3-CTRL2016-PD\n",
      "Data directory: /lustre/storeA/project/aerocom/aerocom-users-database/AEROCOM-PHASE-III/CAM5.3-Oslo_AP3-CTRL2016-PD/renamed\n",
      "Available variables: ['abs440aer', 'abs440aercs', 'abs500aer', 'abs5503Daer', 'abs550aer', 'abs550bc', 'abs550dryaer', 'abs550dust', 'abs550oa', 'abs550so4', 'abs550ss', 'abs670aer', 'abs870aer', 'airmass', 'area', 'asy3Daer', 'bc5503Daer', 'ccn0c02p', 'ccn0c05p', 'ccn0c10p', 'ccn0c20p', 'ccn0c50p', 'ccn1c00p', 'cheaqpso4', 'chegpso4', 'chepso2', 'cl3D', 'cldnci', 'cldncl', 'clt', 'cltl', 'drybc', 'drydms', 'drydust', 'dryoa', 'dryso2', 'dryso4', 'dryss', 'ec5503Daer', 'ec550dryaer', 'emibc', 'emidms', 'emidust', 'emioa', 'emiso2', 'emiso4', 'emiss', 'hus', 'landf', 'loadbc', 'loaddms', 'loaddust', 'loadoa', 'loadso2', 'loadso4', 'loadss', 'mmraerh2o', 'mmrbc', 'mmrdu', 'mmroa', 'mmrso4', 'mmrss', 'od440aer', 'od440csaer', 'od550aer', 'od550aerh2o', 'od550bc', 'od550csaer', 'od550dust', 'od550gt1aer', 'od550lt1aer', 'od550lt1dust', 'od550oa', 'od550so4', 'od550ss', 'od670aer', 'od870aer', 'od870csaer', 'orog', 'precip', 'pressure', 'ps', 'rlds', 'rlus', 'rlut', 'rlutcs', 'rsds', 'rsdscs', 'rsdt', 'rsus', 'rsut', 'rsutcs', 'sconcbc', 'sconcdms', 'sconcdust', 'sconcoa', 'sconcso2', 'sconcso4', 'sconcss', 'temp', 'vmrdms', 'vmrso2', 'wetbc', 'wetdms', 'wetdust', 'wetoa', 'wetso2', 'wetso4', 'wetss']\n",
      "Available years: [2010]\n",
      "Available time resolutions ['monthly']\n"
     ]
    }
   ],
   "source": [
    "reader = pya.io.ReadGridded(MOD2)\n",
    "print(reader)"
   ]
  },
  {
   "cell_type": "markdown",
   "metadata": {},
   "source": [
    "#### Load extinction data"
   ]
  },
  {
   "cell_type": "code",
   "execution_count": 18,
   "metadata": {},
   "outputs": [],
   "source": [
    "ec = reader.read_var('ec550dryaer')"
   ]
  },
  {
   "cell_type": "code",
   "execution_count": 10,
   "metadata": {},
   "outputs": [
    {
     "data": {
      "text/plain": [
       "pyaerocom.GriddedData\n",
       "Grid data: <iris 'Cube' of Dry aerosol extinction at 550nm / (1/Mm) (atmosphere_hybrid_sigma_pressure_coordinate: 30)>"
      ]
     },
     "execution_count": 10,
     "metadata": {},
     "output_type": "execute_result"
    }
   ],
   "source": [
    "ec_sl = extract_profile_arr(ec, lat_sl, lon_sl, 0)\n",
    "ec_sl"
   ]
  },
  {
   "cell_type": "markdown",
   "metadata": {},
   "source": [
    "#### Load pressure data"
   ]
  },
  {
   "cell_type": "code",
   "execution_count": 11,
   "metadata": {},
   "outputs": [
    {
     "data": {
      "text/plain": [
       "pyaerocom.GriddedData\n",
       "Grid data: <iris 'Cube' of pres / (Pa) (time: 12; atmosphere_hybrid_sigma_pressure_coordinate: 30; latitude: 192; longitude: 288)>"
      ]
     },
     "execution_count": 11,
     "metadata": {},
     "output_type": "execute_result"
    }
   ],
   "source": [
    "p = reader.read_var('pressure')\n",
    "p"
   ]
  },
  {
   "cell_type": "code",
   "execution_count": 12,
   "metadata": {},
   "outputs": [
    {
     "data": {
      "text/plain": [
       "pyaerocom.GriddedData\n",
       "Grid data: <iris 'Cube' of pres / (Pa) (atmosphere_hybrid_sigma_pressure_coordinate: 30)>"
      ]
     },
     "execution_count": 12,
     "metadata": {},
     "output_type": "execute_result"
    }
   ],
   "source": [
    "parr_sl = extract_profile_arr(p, lat_sl, lon_sl, 0)\n",
    "parr_sl"
   ]
  },
  {
   "cell_type": "code",
   "execution_count": 13,
   "metadata": {},
   "outputs": [],
   "source": [
    "if not parr_sl.unit == 'Pa':\n",
    "    raise ValueError('Invalid unit')"
   ]
  },
  {
   "cell_type": "markdown",
   "metadata": {},
   "source": [
    "#### Convert pressure to altitude"
   ]
  },
  {
   "cell_type": "code",
   "execution_count": 14,
   "metadata": {},
   "outputs": [
    {
     "data": {
      "text/plain": [
       "array([29137.828  , 26858.908  , 24608.537  , 22478.404  , 20563.93   ,\n",
       "       18901.51   , 17525.875  , 16494.309  , 15620.185  , 14718.609  ,\n",
       "       13788.724  , 12829.639  , 11833.034  , 10799.578  ,  9735.284  ,\n",
       "        8638.9795 ,  7509.4834 ,  6345.597  ,  5146.108  ,  4003.9521 ,\n",
       "        3024.5076 ,  2235.4685 ,  1648.2659 ,  1271.5187 ,  1012.0693 ,\n",
       "         776.007  ,   563.7178 ,   375.5582 ,   211.84006,    73.01258],\n",
       "      dtype=float32)"
      ]
     },
     "execution_count": 14,
     "metadata": {},
     "output_type": "execute_result"
    }
   ],
   "source": [
    "_d = parr_sl.grid.data\n",
    "if isinstance(_d, np.ma.masked_array):\n",
    "    _d = _d.data\n",
    "alts_sl = pya.vert_coords.pressure2altitude(_d)\n",
    "alts_sl"
   ]
  },
  {
   "cell_type": "code",
   "execution_count": 15,
   "metadata": {},
   "outputs": [
    {
     "data": {
      "text/plain": [
       "Text(0.5, 1.0, 'Atlantic (50N, 20W), Jan 2010')"
      ]
     },
     "execution_count": 15,
     "metadata": {},
     "output_type": "execute_result"
    },
    {
     "data": {
      "image/png": "[encoded data removed]",
      "text/plain": [
       "<Figure size 288x576 with 1 Axes>"
      ]
     },
     "metadata": {},
     "output_type": "display_data"
    }
   ],
   "source": [
    "c1_ec_sl = pya.VerticalProfile(ec_sl.grid.data, alts_sl, var_name=ec.var_name)\n",
    "ax = c1_ec_sl.plot()\n",
    "ax.set_ylim([0, 15000])\n",
    "ax.set_title(\"Atlantic (50N, 20W), Jan 2010\", fontsize=12)"
   ]
  },
  {
   "cell_type": "markdown",
   "metadata": {},
   "source": [
    "#### Hardangervidda coordinate"
   ]
  },
  {
   "cell_type": "code",
   "execution_count": 16,
   "metadata": {},
   "outputs": [],
   "source": [
    "ec_hv = extract_profile_arr(ec, lat_hv, lon_hv, 0)\n",
    "p_hv = extract_profile_arr(p, lat_hv, lon_hv, 0)\n",
    "alts_hv = pya.vert_coords.pressure2altitude(p_hv.grid.data)"
   ]
  },
  {
   "cell_type": "code",
   "execution_count": 17,
   "metadata": {},
   "outputs": [
    {
     "ename": "SyntaxError",
     "evalue": "invalid syntax (<ipython-input-17-219f4bbde21c>, line 1)",
     "output_type": "error",
     "traceback": [
      "\u001b[0;36m  File \u001b[0;32m\"<ipython-input-17-219f4bbde21c>\"\u001b[0;36m, line \u001b[0;32m1\u001b[0m\n\u001b[0;31m    c2_ec pya.VerticalProfile(ec_hv.grid.data, alts_hv, var_name=ec.var_name).plot()\u001b[0m\n\u001b[0m            ^\u001b[0m\n\u001b[0;31mSyntaxError\u001b[0m\u001b[0;31m:\u001b[0m invalid syntax\n"
     ]
    }
   ],
   "source": [
    "c2_ec pya.VerticalProfile(ec_hv.grid.data, alts_hv, var_name=ec.var_name).plot()\n",
    "ax.set_ylim([0, 15000])\n",
    "ax.set_title(\"Hardangervidda, Jan 2010\", fontsize=12)"
   ]
  },
  {
   "cell_type": "markdown",
   "metadata": {},
   "source": [
    "### CASE 3\n",
    "\n",
    "The extinction coefficients are provided as optical depth per layer."
   ]
  },
  {
   "cell_type": "code",
   "execution_count": null,
   "metadata": {},
   "outputs": [],
   "source": [
    "reader = pya.io.ReadGridded(MOD3)\n",
    "print(reader)"
   ]
  },
  {
   "cell_type": "code",
   "execution_count": null,
   "metadata": {},
   "outputs": [],
   "source": [
    "# time index for 31.1.\n",
    "t_idx = int(31 * 24 / 3)\n",
    "t_idx"
   ]
  },
  {
   "cell_type": "code",
   "execution_count": null,
   "metadata": {},
   "outputs": [],
   "source": [
    "od3d = reader.read_var('od550aer3d')\n",
    "od_sl = extract_profile_arr(od3d, lat_sl, lon_sl, t_idx)"
   ]
  },
  {
   "cell_type": "code",
   "execution_count": null,
   "metadata": {},
   "outputs": [],
   "source": [
    "od_sl"
   ]
  },
  {
   "cell_type": "code",
   "execution_count": null,
   "metadata": {},
   "outputs": [],
   "source": [
    "dz = reader.read_var('deltaz3d')\n",
    "dz_arr"
   ]
  },
  {
   "cell_type": "code",
   "execution_count": null,
   "metadata": {},
   "outputs": [],
   "source": [
    "print(od3d.grid)"
   ]
  },
  {
   "cell_type": "code",
   "execution_count": null,
   "metadata": {},
   "outputs": [],
   "source": [
    "od3d.coord_names['air_pressure']"
   ]
  },
  {
   "cell_type": "code",
   "execution_count": null,
   "metadata": {},
   "outputs": [],
   "source": [
    "od3d.grid.coords()"
   ]
  }
 ],
 "metadata": {
  "kernelspec": {
   "display_name": "Python 3",
   "language": "python",
   "name": "python3"
  },
  "language_info": {
   "codemirror_mode": {
    "name": "ipython",
    "version": 3
   },
   "file_extension": ".py",
   "mimetype": "text/x-python",
   "name": "python",
   "nbconvert_exporter": "python",
   "pygments_lexer": "ipython3",
   "version": "3.6.6"
  }
 },
 "nbformat": 4,
 "nbformat_minor": 2
}
